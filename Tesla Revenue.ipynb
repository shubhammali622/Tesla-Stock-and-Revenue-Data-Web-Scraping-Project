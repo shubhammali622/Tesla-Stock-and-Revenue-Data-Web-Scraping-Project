{
 "cells": [
  {
   "cell_type": "code",
   "execution_count": 1,
   "id": "ed93037f",
   "metadata": {},
   "outputs": [],
   "source": [
    "import requests\n",
    "from bs4 import BeautifulSoup\n",
    "import pandas as pd"
   ]
  },
  {
   "cell_type": "code",
   "execution_count": 2,
   "id": "2ee4096c",
   "metadata": {},
   "outputs": [],
   "source": [
    "# Define the URL of the webpage containing Tesla revenue data\n",
    "url = \"https://companiesmarketcap.com/tesla/revenue/\"\n"
   ]
  },
  {
   "cell_type": "code",
   "execution_count": 3,
   "id": "bd8c1d3a",
   "metadata": {},
   "outputs": [],
   "source": [
    "# Send a GET request to the URL\n",
    "response = requests.get(url)\n",
    "\n",
    "# Parse the HTML content of the webpage\n",
    "soup = BeautifulSoup(response.content, \"html.parser\")"
   ]
  },
  {
   "cell_type": "code",
   "execution_count": 4,
   "id": "52b22b83",
   "metadata": {},
   "outputs": [
    {
     "name": "stdout",
     "output_type": "stream",
     "text": [
      "Head of Tesla Revenue DataFrame:\n",
      "         Year   Revenue\n",
      "0  2024 (TTM)  $95.31 B\n",
      "1        2023  $96.77 B\n",
      "2        2022  $81.46 B\n",
      "3        2021  $53.82 B\n",
      "4        2020  $31.53 B\n"
     ]
    }
   ],
   "source": [
    "# Find the table containing the revenue data\n",
    "table = soup.find(\"table\", class_=\"table\")\n",
    "\n",
    "# Check if table is found\n",
    "if table is not None:\n",
    "    # Find all rows in the table\n",
    "    rows = table.find_all(\"tr\")\n",
    "\n",
    "    # Initialize lists to store year and revenue data\n",
    "    years = []\n",
    "    revenues = []\n",
    "\n",
    "    # Loop through each row (excluding the header row)\n",
    "    for row in rows[1:]:\n",
    "        # Extract data from each cell in the row\n",
    "        cells = row.find_all(\"td\")\n",
    "        # Extract the year and revenue value\n",
    "        year = cells[0].text.strip()\n",
    "        revenue = cells[1].text.strip()\n",
    "        # Append year and revenue to lists\n",
    "        years.append(year)\n",
    "        revenues.append(revenue)\n",
    "\n",
    "    # Create a DataFrame from the extracted data\n",
    "    tesla_revenue = pd.DataFrame({\"Year\": years, \"Revenue\": revenues})\n",
    "\n",
    "    def display_data(dataframe, view=None):\n",
    "        if view == \"head\":\n",
    "            print(\"Head of Tesla Revenue DataFrame:\")\n",
    "            print(dataframe.head())\n",
    "        elif view == \"tail\":\n",
    "            print(\"Tail of Tesla Revenue DataFrame:\")\n",
    "            print(dataframe.tail())\n",
    "        else:\n",
    "            print(\"All Tesla Revenue DataFrame:\")\n",
    "            print(dataframe)\n",
    "\n",
    "    # You can call the function with \"head\", \"tail\", or None\n",
    "    # Example usage:\n",
    "    view_option = 'head'# Change this to \"tail\" or None as needed\n",
    "    display_data(tesla_revenue, view=view_option)\n",
    "else:\n",
    "    print(\"Table not found. Check the HTML structure of the webpage.\")"
   ]
  },
  {
   "cell_type": "code",
   "execution_count": null,
   "id": "57a7412c",
   "metadata": {},
   "outputs": [],
   "source": []
  }
 ],
 "metadata": {
  "kernelspec": {
   "display_name": "Python 3 (ipykernel)",
   "language": "python",
   "name": "python3"
  },
  "language_info": {
   "codemirror_mode": {
    "name": "ipython",
    "version": 3
   },
   "file_extension": ".py",
   "mimetype": "text/x-python",
   "name": "python",
   "nbconvert_exporter": "python",
   "pygments_lexer": "ipython3",
   "version": "3.11.7"
  }
 },
 "nbformat": 4,
 "nbformat_minor": 5
}
